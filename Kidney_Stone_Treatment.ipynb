{
 "cells": [
  {
   "cell_type": "code",
   "execution_count": 17,
   "metadata": {},
   "outputs": [],
   "source": [
    "library(readr)\n",
    "library(dplyr)\n",
    "library(ggplot2)\n",
    "library(broom)"
   ]
  },
  {
   "cell_type": "code",
   "execution_count": 21,
   "metadata": {},
   "outputs": [
    {
     "data": {
      "text/html": [
       "<table>\n",
       "<thead><tr><th scope=col>treatment</th><th scope=col>stone_size</th><th scope=col>success</th></tr></thead>\n",
       "<tbody>\n",
       "\t<tr><td>B    </td><td>large</td><td>1    </td></tr>\n",
       "\t<tr><td>A    </td><td>large</td><td>1    </td></tr>\n",
       "\t<tr><td>A    </td><td>large</td><td>0    </td></tr>\n",
       "\t<tr><td>A    </td><td>large</td><td>1    </td></tr>\n",
       "\t<tr><td>A    </td><td>large</td><td>1    </td></tr>\n",
       "\t<tr><td>B    </td><td>large</td><td>1    </td></tr>\n",
       "</tbody>\n",
       "</table>\n"
      ],
      "text/latex": [
       "\\begin{tabular}{r|lll}\n",
       " treatment & stone\\_size & success\\\\\n",
       "\\hline\n",
       "\t B     & large & 1    \\\\\n",
       "\t A     & large & 1    \\\\\n",
       "\t A     & large & 0    \\\\\n",
       "\t A     & large & 1    \\\\\n",
       "\t A     & large & 1    \\\\\n",
       "\t B     & large & 1    \\\\\n",
       "\\end{tabular}\n"
      ],
      "text/markdown": [
       "\n",
       "| treatment | stone_size | success |\n",
       "|---|---|---|\n",
       "| B     | large | 1     |\n",
       "| A     | large | 1     |\n",
       "| A     | large | 0     |\n",
       "| A     | large | 1     |\n",
       "| A     | large | 1     |\n",
       "| B     | large | 1     |\n",
       "\n"
      ],
      "text/plain": [
       "  treatment stone_size success\n",
       "1 B         large      1      \n",
       "2 A         large      1      \n",
       "3 A         large      0      \n",
       "4 A         large      1      \n",
       "5 A         large      1      \n",
       "6 B         large      1      "
      ]
     },
     "metadata": {},
     "output_type": "display_data"
    }
   ],
   "source": [
    "fl<-\"C:/Users/HanSoul/Documents/kidney_stone_data.csv\"\n",
    "data<-read.csv(fl)\n",
    "head(data)"
   ]
  },
  {
   "cell_type": "code",
   "execution_count": 34,
   "metadata": {
    "scrolled": false
   },
   "outputs": [
    {
     "name": "stderr",
     "output_type": "stream",
     "text": [
      "`summarise()` regrouping output by 'treatment', 'success' (override with `.groups` argument)\n"
     ]
    },
    {
     "data": {
      "image/png": "[encoded data removed]",
      "text/plain": [
       "plot without title"
      ]
     },
     "metadata": {},
     "output_type": "display_data"
    }
   ],
   "source": [
    "data_sum <- data %>%\n",
    "            group_by(treatment, success, stone_size) %>%\n",
    "            summarise(N=n()) %>%\n",
    "            mutate(freq = N/sum(N))\n",
    "# data_sum\n",
    "    ggplot(data_sum, aes(x = treatment, y = N)) +\n",
    "    geom_bar(aes(fill = stone_size), stat = \"identity\")"
   ]
  },
  {
   "cell_type": "code",
   "execution_count": 20,
   "metadata": {},
   "outputs": [
    {
     "ename": "ERROR",
     "evalue": "Error in ggplot(freq_df, aes(x = treatment, y = N)): object 'freq_df' not found\n",
     "output_type": "error",
     "traceback": [
      "Error in ggplot(freq_df, aes(x = treatment, y = N)): object 'freq_df' not found\nTraceback:\n",
      "1. ggplot(freq_df, aes(x = treatment, y = N))"
     ]
    }
   ],
   "source": []
  },
  {
   "cell_type": "code",
   "execution_count": null,
   "metadata": {},
   "outputs": [],
   "source": [
    "trt_stn_chi <- chisq.test(data$treatment, data$stone_size)\n",
    "tidy(trt_stn_chi)"
   ]
  },
  {
   "cell_type": "code",
   "execution_count": null,
   "metadata": {},
   "outputs": [],
   "source": [
    "mod <-glm(data = data, success ~ treatment + stone_size, family = 'binomial')\n",
    "tidy(mod)"
   ]
  },
  {
   "cell_type": "code",
   "execution_count": null,
   "metadata": {},
   "outputs": [],
   "source": []
  }
 ],
 "metadata": {
  "kernelspec": {
   "display_name": "R",
   "language": "R",
   "name": "ir"
  },
  "language_info": {
   "codemirror_mode": "r",
   "file_extension": ".r",
   "mimetype": "text/x-r-source",
   "name": "R",
   "pygments_lexer": "r",
   "version": "3.6.3"
  }
 },
 "nbformat": 4,
 "nbformat_minor": 4
}
