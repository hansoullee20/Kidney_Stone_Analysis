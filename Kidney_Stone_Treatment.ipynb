{
 "cells": [
  {
   "cell_type": "code",
   "execution_count": 1,
   "metadata": {},
   "outputs": [
    {
     "name": "stderr",
     "output_type": "stream",
     "text": [
      "\n",
      "Attaching package: 'dplyr'\n",
      "\n",
      "The following objects are masked from 'package:stats':\n",
      "\n",
      "    filter, lag\n",
      "\n",
      "The following objects are masked from 'package:base':\n",
      "\n",
      "    intersect, setdiff, setequal, union\n",
      "\n"
     ]
    }
   ],
   "source": [
    "library(readr)\n",
    "library(dplyr)\n",
    "library(ggplot2)\n",
    "library(broom)"
   ]
  },
  {
   "cell_type": "code",
   "execution_count": 2,
   "metadata": {},
   "outputs": [
    {
     "data": {
      "text/html": [
       "<table>\n",
       "<thead><tr><th scope=col>treatment</th><th scope=col>stone_size</th><th scope=col>success</th></tr></thead>\n",
       "<tbody>\n",
       "\t<tr><td>B    </td><td>large</td><td>1    </td></tr>\n",
       "\t<tr><td>A    </td><td>large</td><td>1    </td></tr>\n",
       "\t<tr><td>A    </td><td>large</td><td>0    </td></tr>\n",
       "\t<tr><td>A    </td><td>large</td><td>1    </td></tr>\n",
       "\t<tr><td>A    </td><td>large</td><td>1    </td></tr>\n",
       "\t<tr><td>B    </td><td>large</td><td>1    </td></tr>\n",
       "</tbody>\n",
       "</table>\n"
      ],
      "text/latex": [
       "\\begin{tabular}{r|lll}\n",
       " treatment & stone\\_size & success\\\\\n",
       "\\hline\n",
       "\t B     & large & 1    \\\\\n",
       "\t A     & large & 1    \\\\\n",
       "\t A     & large & 0    \\\\\n",
       "\t A     & large & 1    \\\\\n",
       "\t A     & large & 1    \\\\\n",
       "\t B     & large & 1    \\\\\n",
       "\\end{tabular}\n"
      ],
      "text/markdown": [
       "\n",
       "| treatment | stone_size | success |\n",
       "|---|---|---|\n",
       "| B     | large | 1     |\n",
       "| A     | large | 1     |\n",
       "| A     | large | 0     |\n",
       "| A     | large | 1     |\n",
       "| A     | large | 1     |\n",
       "| B     | large | 1     |\n",
       "\n"
      ],
      "text/plain": [
       "  treatment stone_size success\n",
       "1 B         large      1      \n",
       "2 A         large      1      \n",
       "3 A         large      0      \n",
       "4 A         large      1      \n",
       "5 A         large      1      \n",
       "6 B         large      1      "
      ]
     },
     "metadata": {},
     "output_type": "display_data"
    }
   ],
   "source": [
    "fl<-\"C:/Users/HanSoul/Documents/kidney_stone_data.csv\"\n",
    "data<-read.csv(fl)\n",
    "head(data)"
   ]
  },
  {
   "cell_type": "code",
   "execution_count": 3,
   "metadata": {
    "scrolled": false
   },
   "outputs": [
    {
     "name": "stderr",
     "output_type": "stream",
     "text": [
      "`summarise()` regrouping output by 'treatment', 'success' (override with `.groups` argument)\n"
     ]
    },
    {
     "data": {
      "image/png": "[encoded data removed]",
      "text/plain": [
       "plot without title"
      ]
     },
     "metadata": {},
     "output_type": "display_data"
    }
   ],
   "source": [
    "data_sum <- data %>%\n",
    "            group_by(treatment, success, stone_size) %>%\n",
    "            summarise(N=n()) %>%\n",
    "            mutate(freq = N/sum(N))\n",
    "# data_sum\n",
    "    ggplot(data_sum, aes(x = treatment, y = N)) +\n",
    "    geom_bar(aes(fill = stone_size), stat = \"identity\")"
   ]
  },
  {
   "cell_type": "code",
   "execution_count": null,
   "metadata": {},
   "outputs": [],
   "source": []
  },
  {
   "cell_type": "code",
   "execution_count": 4,
   "metadata": {},
   "outputs": [
    {
     "data": {
      "text/html": [
       "<table>\n",
       "<thead><tr><th scope=col>statistic</th><th scope=col>p.value</th><th scope=col>parameter</th><th scope=col>method</th></tr></thead>\n",
       "<tbody>\n",
       "\t<tr><td>189.3557                                                    </td><td>4.395009e-43                                                </td><td>1                                                           </td><td>Pearson's Chi-squared test with Yates' continuity correction</td></tr>\n",
       "</tbody>\n",
       "</table>\n"
      ],
      "text/latex": [
       "\\begin{tabular}{r|llll}\n",
       " statistic & p.value & parameter & method\\\\\n",
       "\\hline\n",
       "\t 189.3557                                                     & 4.395009e-43                                                 & 1                                                            & Pearson's Chi-squared test with Yates' continuity correction\\\\\n",
       "\\end{tabular}\n"
      ],
      "text/markdown": [
       "\n",
       "| statistic | p.value | parameter | method |\n",
       "|---|---|---|---|\n",
       "| 189.3557                                                     | 4.395009e-43                                                 | 1                                                            | Pearson's Chi-squared test with Yates' continuity correction |\n",
       "\n"
      ],
      "text/plain": [
       "  statistic p.value      parameter\n",
       "1 189.3557  4.395009e-43 1        \n",
       "  method                                                      \n",
       "1 Pearson's Chi-squared test with Yates' continuity correction"
      ]
     },
     "metadata": {},
     "output_type": "display_data"
    }
   ],
   "source": [
    "trt_stn_chi <- chisq.test(data$treatment, data$stone_size)\n",
    "tidy(trt_stn_chi)"
   ]
  },
  {
   "cell_type": "code",
   "execution_count": 11,
   "metadata": {},
   "outputs": [
    {
     "data": {
      "text/html": [
       "<table>\n",
       "<thead><tr><th scope=col>term</th><th scope=col>estimate</th><th scope=col>std.error</th><th scope=col>statistic</th><th scope=col>p.value</th></tr></thead>\n",
       "<tbody>\n",
       "\t<tr><td>(Intercept)    </td><td> 1.0332140     </td><td>0.1344695      </td><td> 7.683629      </td><td>1.546436e-14   </td></tr>\n",
       "\t<tr><td>treatmentB     </td><td>-0.3572287     </td><td>0.2290792      </td><td>-1.559411      </td><td>1.188991e-01   </td></tr>\n",
       "\t<tr><td>stone_sizesmall</td><td> 1.2605654     </td><td>0.2390027      </td><td> 5.274272      </td><td>1.332838e-07   </td></tr>\n",
       "</tbody>\n",
       "</table>\n"
      ],
      "text/latex": [
       "\\begin{tabular}{r|lllll}\n",
       " term & estimate & std.error & statistic & p.value\\\\\n",
       "\\hline\n",
       "\t (Intercept)     &  1.0332140      & 0.1344695       &  7.683629       & 1.546436e-14   \\\\\n",
       "\t treatmentB      & -0.3572287      & 0.2290792       & -1.559411       & 1.188991e-01   \\\\\n",
       "\t stone\\_sizesmall &  1.2605654        & 0.2390027         &  5.274272         & 1.332838e-07     \\\\\n",
       "\\end{tabular}\n"
      ],
      "text/markdown": [
       "\n",
       "| term | estimate | std.error | statistic | p.value |\n",
       "|---|---|---|---|---|\n",
       "| (Intercept)     |  1.0332140      | 0.1344695       |  7.683629       | 1.546436e-14    |\n",
       "| treatmentB      | -0.3572287      | 0.2290792       | -1.559411       | 1.188991e-01    |\n",
       "| stone_sizesmall |  1.2605654      | 0.2390027       |  5.274272       | 1.332838e-07    |\n",
       "\n"
      ],
      "text/plain": [
       "  term            estimate   std.error statistic p.value     \n",
       "1 (Intercept)      1.0332140 0.1344695  7.683629 1.546436e-14\n",
       "2 treatmentB      -0.3572287 0.2290792 -1.559411 1.188991e-01\n",
       "3 stone_sizesmall  1.2605654 0.2390027  5.274272 1.332838e-07"
      ]
     },
     "metadata": {},
     "output_type": "display_data"
    },
    {
     "data": {
      "image/png": "[encoded data removed]",
      "text/plain": [
       "plot without title"
      ]
     },
     "metadata": {},
     "output_type": "display_data"
    }
   ],
   "source": [
    "mod <-glm(data = data, success ~ treatment + stone_size, family = 'binomial')\n",
    "mod_tdy <- tidy(mod)\n",
    "mod_tdy\n",
    "\n",
    "p<- ggplot(mod_tdy, aes(x = term, y = estimate)) +\n",
    "    geom_pointrange(aes(ymin = estimate - 1.96 * std.error,\n",
    "                       ymax = estimate + 1.96 * std.error)) + geom_hline(yintercept = 0)\n",
    "p"
   ]
  },
  {
   "cell_type": "code",
   "execution_count": null,
   "metadata": {},
   "outputs": [],
   "source": []
  }
 ],
 "metadata": {
  "kernelspec": {
   "display_name": "R",
   "language": "R",
   "name": "ir"
  },
  "language_info": {
   "codemirror_mode": "r",
   "file_extension": ".r",
   "mimetype": "text/x-r-source",
   "name": "R",
   "pygments_lexer": "r",
   "version": "3.6.3"
  }
 },
 "nbformat": 4,
 "nbformat_minor": 4
}
